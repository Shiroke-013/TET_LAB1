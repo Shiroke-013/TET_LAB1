{
 "cells": [
  {
   "cell_type": "code",
   "execution_count": 1,
   "metadata": {},
   "outputs": [
    {
     "name": "stdout",
     "output_type": "stream",
     "text": [
      "Starting Spark application\n"
     ]
    },
    {
     "data": {
      "text/html": [
       "<table>\n",
       "<tr><th>ID</th><th>YARN Application ID</th><th>Kind</th><th>State</th><th>Spark UI</th><th>Driver log</th><th>Current session?</th></tr><tr><td>7</td><td>application_1637936395482_0011</td><td>pyspark</td><td>idle</td><td><a target=\"_blank\" href=\"http://ip-172-31-88-119.ec2.internal:20888/proxy/application_1637936395482_0011/\">Link</a></td><td><a target=\"_blank\" href=\"http://ip-172-31-91-205.ec2.internal:8042/node/containerlogs/container_1637936395482_0011_01_000001/livy\">Link</a></td><td>✔</td></tr></table>"
      ],
      "text/plain": [
       "<IPython.core.display.HTML object>"
      ]
     },
     "metadata": {},
     "output_type": "display_data"
    },
    {
     "data": {
      "application/vnd.jupyter.widget-view+json": {
       "model_id": "",
       "version_major": 2,
       "version_minor": 0
      },
      "text/plain": [
       "FloatProgress(value=0.0, bar_style='info', description='Progress:', layout=Layout(height='25px', width='50%'),…"
      ]
     },
     "metadata": {},
     "output_type": "display_data"
    },
    {
     "name": "stdout",
     "output_type": "stream",
     "text": [
      "SparkSession available as 'spark'.\n"
     ]
    },
    {
     "data": {
      "application/vnd.jupyter.widget-view+json": {
       "model_id": "",
       "version_major": 2,
       "version_minor": 0
      },
      "text/plain": [
       "FloatProgress(value=0.0, bar_style='info', description='Progress:', layout=Layout(height='25px', width='50%'),…"
      ]
     },
     "metadata": {},
     "output_type": "display_data"
    },
    {
     "name": "stderr",
     "output_type": "stream",
     "text": [
      "An error was encountered:\n",
      "unknown magic command '%configure'\n",
      "UnknownMagic: unknown magic command '%configure'\n",
      "\n"
     ]
    }
   ],
   "source": [
    "#Modificando Configuración\n",
    "%%configure -f\n",
    "{\n",
    "    \"conf\": {\n",
    "        \"spark.pyspark.python\": \"python3\",\n",
    "        \"spark.pyspark.virtualenv.enabled\": \"true\",\n",
    "        \"spark.pyspark.virtualenv.type\":\"native\",\n",
    "        \"spark.pyspark.virtualenv.bin.path\":\"/usr/bin/virtualenv\"\n",
    "    }\n",
    "}"
   ]
  },
  {
   "cell_type": "code",
   "execution_count": 2,
   "metadata": {},
   "outputs": [
    {
     "data": {
      "application/vnd.jupyter.widget-view+json": {
       "model_id": "",
       "version_major": 2,
       "version_minor": 0
      },
      "text/plain": [
       "FloatProgress(value=0.0, bar_style='info', description='Progress:', layout=Layout(height='25px', width='50%'),…"
      ]
     },
     "metadata": {},
     "output_type": "display_data"
    }
   ],
   "source": [
    "#import SparkSession\n",
    "from pyspark.sql import SparkSession\n",
    "import pyspark.sql.functions as F\n",
    "from pyspark.sql.functions import col\n",
    "from pyspark.sql.functions import desc\n",
    "import functools"
   ]
  },
  {
   "cell_type": "code",
   "execution_count": 3,
   "metadata": {},
   "outputs": [
    {
     "data": {
      "application/vnd.jupyter.widget-view+json": {
       "model_id": "",
       "version_major": 2,
       "version_minor": 0
      },
      "text/plain": [
       "FloatProgress(value=0.0, bar_style='info', description='Progress:', layout=Layout(height='25px', width='50%'),…"
      ]
     },
     "metadata": {},
     "output_type": "display_data"
    }
   ],
   "source": [
    "#create spark session object\n",
    "spark=SparkSession.builder.appName('data_processing_lab4_adchavesp').getOrCreate()"
   ]
  },
  {
   "cell_type": "code",
   "execution_count": 4,
   "metadata": {},
   "outputs": [
    {
     "data": {
      "application/vnd.jupyter.widget-view+json": {
       "model_id": "",
       "version_major": 2,
       "version_minor": 0
      },
      "text/plain": [
       "FloatProgress(value=0.0, bar_style='info', description='Progress:', layout=Layout(height='25px', width='50%'),…"
      ]
     },
     "metadata": {},
     "output_type": "display_data"
    }
   ],
   "source": [
    "#Load CSV COVID dataset\n",
    "df=spark.sql(\"SELECT * FROM hue__tmp_covid19\")"
   ]
  },
  {
   "cell_type": "markdown",
   "metadata": {},
   "source": [
    "### Los 10 departamentos con más casos de covid en Colombia ordenados de mayor a menor."
   ]
  },
  {
   "cell_type": "code",
   "execution_count": 5,
   "metadata": {
    "scrolled": true
   },
   "outputs": [
    {
     "data": {
      "application/vnd.jupyter.widget-view+json": {
       "model_id": "",
       "version_major": 2,
       "version_minor": 0
      },
      "text/plain": [
       "FloatProgress(value=0.0, bar_style='info', description='Progress:', layout=Layout(height='25px', width='50%'),…"
      ]
     },
     "metadata": {},
     "output_type": "display_data"
    }
   ],
   "source": [
    "dfDep=spark.sql(\"SELECT `nombre departamento`, COUNT(*)  AS NumeroCasos FROM `default`.`hue__tmp_covid19` GROUP BY `nombre departamento` ORDER BY NumeroCasos DESC\")"
   ]
  },
  {
   "cell_type": "code",
   "execution_count": 6,
   "metadata": {
    "scrolled": true
   },
   "outputs": [
    {
     "data": {
      "application/vnd.jupyter.widget-view+json": {
       "model_id": "",
       "version_major": 2,
       "version_minor": 0
      },
      "text/plain": [
       "FloatProgress(value=0.0, bar_style='info', description='Progress:', layout=Layout(height='25px', width='50%'),…"
      ]
     },
     "metadata": {},
     "output_type": "display_data"
    },
    {
     "name": "stdout",
     "output_type": "stream",
     "text": [
      "+-------------------+-----------+\n",
      "|nombre departamento|NumeroCasos|\n",
      "+-------------------+-----------+\n",
      "|             BOGOTA|    1460569|\n",
      "|          ANTIOQUIA|     765648|\n",
      "|              VALLE|     415000|\n",
      "|       CUNDINAMARCA|     265897|\n",
      "|          SANTANDER|     229051|\n",
      "|       BARRANQUILLA|     214692|\n",
      "|          CARTAGENA|     125933|\n",
      "|          ATLANTICO|     122465|\n",
      "|             TOLIMA|     108010|\n",
      "|             BOYACA|     106243|\n",
      "+-------------------+-----------+\n",
      "only showing top 10 rows"
     ]
    }
   ],
   "source": [
    "dfDep.show(10)"
   ]
  },
  {
   "cell_type": "markdown",
   "metadata": {},
   "source": [
    "### Las 10 ciudades con más casos de covid en Colombia ordenados de mayor a menor."
   ]
  },
  {
   "cell_type": "code",
   "execution_count": 7,
   "metadata": {},
   "outputs": [
    {
     "data": {
      "application/vnd.jupyter.widget-view+json": {
       "model_id": "",
       "version_major": 2,
       "version_minor": 0
      },
      "text/plain": [
       "FloatProgress(value=0.0, bar_style='info', description='Progress:', layout=Layout(height='25px', width='50%'),…"
      ]
     },
     "metadata": {},
     "output_type": "display_data"
    }
   ],
   "source": [
    "dfMun=spark.sql(\"SELECT `nombre municipio`, COUNT(*)  AS NumeroCasos FROM `default`.`hue__tmp_covid19` GROUP BY `nombre municipio` ORDER BY NumeroCasos DESC\")"
   ]
  },
  {
   "cell_type": "code",
   "execution_count": 8,
   "metadata": {},
   "outputs": [
    {
     "data": {
      "application/vnd.jupyter.widget-view+json": {
       "model_id": "",
       "version_major": 2,
       "version_minor": 0
      },
      "text/plain": [
       "FloatProgress(value=0.0, bar_style='info', description='Progress:', layout=Layout(height='25px', width='50%'),…"
      ]
     },
     "metadata": {},
     "output_type": "display_data"
    },
    {
     "name": "stdout",
     "output_type": "stream",
     "text": [
      "+----------------+-----------+\n",
      "|nombre municipio|NumeroCasos|\n",
      "+----------------+-----------+\n",
      "|          BOGOTA|    1460569|\n",
      "|        MEDELLIN|     420064|\n",
      "|            CALI|     286145|\n",
      "|    BARRANQUILLA|     214692|\n",
      "|       CARTAGENA|     125933|\n",
      "|     BUCARAMANGA|     108712|\n",
      "|          IBAGUE|      75261|\n",
      "|     SANTA MARTA|      70195|\n",
      "|       MANIZALES|      69820|\n",
      "|           BELLO|      63372|\n",
      "+----------------+-----------+\n",
      "only showing top 10 rows"
     ]
    }
   ],
   "source": [
    "dfMun.show(10)"
   ]
  },
  {
   "cell_type": "markdown",
   "metadata": {},
   "source": [
    "### Cambiando nombre de las columnas y convirtiendo un DataFrame en una vista temporal SQL."
   ]
  },
  {
   "cell_type": "code",
   "execution_count": 9,
   "metadata": {},
   "outputs": [
    {
     "data": {
      "application/vnd.jupyter.widget-view+json": {
       "model_id": "",
       "version_major": 2,
       "version_minor": 0
      },
      "text/plain": [
       "FloatProgress(value=0.0, bar_style='info', description='Progress:', layout=Layout(height='25px', width='50%'),…"
      ]
     },
     "metadata": {},
     "output_type": "display_data"
    },
    {
     "name": "stdout",
     "output_type": "stream",
     "text": [
      "['fecha reporte web', 'ID de caso', 'Fecha de notificacion', 'Codigo DIVIPOLA departamento', 'Nombre departamento', 'Codigo DIVIPOLA municipio', 'Nombre municipio', 'Edad', 'Unidad de medida de edad', 'Sexo', 'Tipo de contagio', 'Ubicacion del caso', 'Estado', 'Codigo ISO del pais', 'Nombre del pais', 'Recuperado', 'Fecha de inicio de sintomas', 'Fecha de muerte', 'Fecha de diagnostico', 'Fecha de recuperacion', 'Tipo de recuperacion', 'Pertenencia etnica', 'Nombre del grupo etnico']"
     ]
    }
   ],
   "source": [
    "#Cambiando nombre de las columnas\n",
    "df2 = df.toDF('fecha reporte web', 'ID de caso', 'Fecha de notificacion', 'Codigo DIVIPOLA departamento', 'Nombre departamento', 'Codigo DIVIPOLA municipio', 'Nombre municipio', 'Edad', 'Unidad de medida de edad', 'Sexo', 'Tipo de contagio', 'Ubicacion del caso', 'Estado', 'Codigo ISO del pais', 'Nombre del pais', 'Recuperado', 'Fecha de inicio de sintomas', 'Fecha de muerte', 'Fecha de diagnostico', 'Fecha de recuperacion', 'Tipo de recuperacion', 'Pertenencia etnica', 'Nombre del grupo etnico')\n",
    "df2.columns"
   ]
  },
  {
   "cell_type": "code",
   "execution_count": 10,
   "metadata": {},
   "outputs": [
    {
     "data": {
      "application/vnd.jupyter.widget-view+json": {
       "model_id": "",
       "version_major": 2,
       "version_minor": 0
      },
      "text/plain": [
       "FloatProgress(value=0.0, bar_style='info', description='Progress:', layout=Layout(height='25px', width='50%'),…"
      ]
     },
     "metadata": {},
     "output_type": "display_data"
    }
   ],
   "source": [
    "# Register the DataFrame as a SQL temporary view\n",
    "df2.createOrReplaceTempView(\"covid19\")"
   ]
  },
  {
   "cell_type": "markdown",
   "metadata": {},
   "source": [
    "### Los 10 días con más casos de covid en Colombia ordenados de mayor a menor."
   ]
  },
  {
   "cell_type": "code",
   "execution_count": 11,
   "metadata": {},
   "outputs": [
    {
     "data": {
      "application/vnd.jupyter.widget-view+json": {
       "model_id": "",
       "version_major": 2,
       "version_minor": 0
      },
      "text/plain": [
       "FloatProgress(value=0.0, bar_style='info', description='Progress:', layout=Layout(height='25px', width='50%'),…"
      ]
     },
     "metadata": {},
     "output_type": "display_data"
    }
   ],
   "source": [
    "dfFechDiag=spark.sql(\"SELECT `Fecha de diagnostico`, COUNT(*) AS DiagnosticoPorDia FROM covid19 GROUP BY `Fecha de diagnostico` ORDER BY DiagnosticoPorDia DESC\")"
   ]
  },
  {
   "cell_type": "code",
   "execution_count": 12,
   "metadata": {
    "scrolled": false
   },
   "outputs": [
    {
     "data": {
      "application/vnd.jupyter.widget-view+json": {
       "model_id": "",
       "version_major": 2,
       "version_minor": 0
      },
      "text/plain": [
       "FloatProgress(value=0.0, bar_style='info', description='Progress:', layout=Layout(height='25px', width='50%'),…"
      ]
     },
     "metadata": {},
     "output_type": "display_data"
    },
    {
     "name": "stdout",
     "output_type": "stream",
     "text": [
      "+--------------------+-----------------+\n",
      "|Fecha de diagnostico|DiagnosticoPorDia|\n",
      "+--------------------+-----------------+\n",
      "|   25/6/2021 0:00:00|            34169|\n",
      "|   23/6/2021 0:00:00|            33920|\n",
      "|   15/6/2021 0:00:00|            33811|\n",
      "|   24/6/2021 0:00:00|            33217|\n",
      "|   21/6/2021 0:00:00|            33068|\n",
      "|   16/6/2021 0:00:00|            32478|\n",
      "|    9/6/2021 0:00:00|            32438|\n",
      "|   29/6/2021 0:00:00|            32092|\n",
      "|   11/6/2021 0:00:00|            31949|\n",
      "|    8/6/2021 0:00:00|            31850|\n",
      "+--------------------+-----------------+\n",
      "only showing top 10 rows"
     ]
    }
   ],
   "source": [
    "dfFechDiag.show(10)"
   ]
  },
  {
   "cell_type": "markdown",
   "metadata": {},
   "source": [
    "### Distribución de casos por edades de covid en Colombia."
   ]
  },
  {
   "cell_type": "code",
   "execution_count": 13,
   "metadata": {},
   "outputs": [
    {
     "data": {
      "application/vnd.jupyter.widget-view+json": {
       "model_id": "",
       "version_major": 2,
       "version_minor": 0
      },
      "text/plain": [
       "FloatProgress(value=0.0, bar_style='info', description='Progress:', layout=Layout(height='25px', width='50%'),…"
      ]
     },
     "metadata": {},
     "output_type": "display_data"
    }
   ],
   "source": [
    "dfEdades = spark.sql(\"SELECT `Edad`, COUNT(*) AS CasosPorEdad FROM covid19 GROUP BY `Edad` ORDER BY CasosPorEdad DESC\")"
   ]
  },
  {
   "cell_type": "code",
   "execution_count": 14,
   "metadata": {},
   "outputs": [
    {
     "data": {
      "application/vnd.jupyter.widget-view+json": {
       "model_id": "",
       "version_major": 2,
       "version_minor": 0
      },
      "text/plain": [
       "FloatProgress(value=0.0, bar_style='info', description='Progress:', layout=Layout(height='25px', width='50%'),…"
      ]
     },
     "metadata": {},
     "output_type": "display_data"
    },
    {
     "name": "stdout",
     "output_type": "stream",
     "text": [
      "+----+------------+\n",
      "|Edad|CasosPorEdad|\n",
      "+----+------------+\n",
      "|  30|      123529|\n",
      "|  28|      122613|\n",
      "|  29|      122536|\n",
      "|  27|      120926|\n",
      "|  26|      120688|\n",
      "|  31|      120421|\n",
      "|  32|      117559|\n",
      "|  25|      115960|\n",
      "|  33|      113163|\n",
      "|  35|      112485|\n",
      "|  34|      111369|\n",
      "|  24|      110740|\n",
      "|  36|      110503|\n",
      "|  38|      108352|\n",
      "|  37|      106948|\n",
      "|  39|      106470|\n",
      "|  40|      104821|\n",
      "|  23|      102041|\n",
      "|  41|      100419|\n",
      "|  22|       93349|\n",
      "+----+------------+\n",
      "only showing top 20 rows"
     ]
    }
   ],
   "source": [
    "dfEdades.show()"
   ]
  },
  {
   "cell_type": "markdown",
   "metadata": {},
   "source": [
    " ### Pregunta abierta: ¿10 Dias en los que falleció más gente?"
   ]
  },
  {
   "cell_type": "code",
   "execution_count": 17,
   "metadata": {},
   "outputs": [
    {
     "data": {
      "application/vnd.jupyter.widget-view+json": {
       "model_id": "",
       "version_major": 2,
       "version_minor": 0
      },
      "text/plain": [
       "FloatProgress(value=0.0, bar_style='info', description='Progress:', layout=Layout(height='25px', width='50%'),…"
      ]
     },
     "metadata": {},
     "output_type": "display_data"
    }
   ],
   "source": [
    "dfMuertes = spark.sql(\"SELECT `Fecha de muerte`, COUNT(*) AS MuertesPorDia FROM covid19 GROUP BY `Fecha de muerte` ORDER BY MuertesPorDia DESC NULLS LAST\")"
   ]
  },
  {
   "cell_type": "code",
   "execution_count": 18,
   "metadata": {},
   "outputs": [
    {
     "data": {
      "application/vnd.jupyter.widget-view+json": {
       "model_id": "",
       "version_major": 2,
       "version_minor": 0
      },
      "text/plain": [
       "FloatProgress(value=0.0, bar_style='info', description='Progress:', layout=Layout(height='25px', width='50%'),…"
      ]
     },
     "metadata": {},
     "output_type": "display_data"
    },
    {
     "name": "stdout",
     "output_type": "stream",
     "text": [
      "+-----------------+-------------+\n",
      "|  Fecha de muerte|MuertesPorDia|\n",
      "+-----------------+-------------+\n",
      "|                 |      4901329|\n",
      "|21/6/2021 0:00:00|          716|\n",
      "|24/6/2021 0:00:00|          694|\n",
      "|20/6/2021 0:00:00|          684|\n",
      "|29/6/2021 0:00:00|          682|\n",
      "|23/6/2021 0:00:00|          682|\n",
      "|14/6/2021 0:00:00|          679|\n",
      "|19/6/2021 0:00:00|          674|\n",
      "|17/6/2021 0:00:00|          674|\n",
      "|13/6/2021 0:00:00|          673|\n",
      "+-----------------+-------------+\n",
      "only showing top 10 rows"
     ]
    }
   ],
   "source": [
    "dfMuertes.show(10)"
   ]
  },
  {
   "cell_type": "code",
   "execution_count": null,
   "metadata": {},
   "outputs": [],
   "source": []
  },
  {
   "cell_type": "code",
   "execution_count": null,
   "metadata": {},
   "outputs": [],
   "source": []
  }
 ],
 "metadata": {
  "kernelspec": {
   "display_name": "PySpark",
   "language": "",
   "name": "pysparkkernel"
  },
  "language_info": {
   "codemirror_mode": {
    "name": "python",
    "version": 3
   },
   "mimetype": "text/x-python",
   "name": "pyspark",
   "pygments_lexer": "python3"
  }
 },
 "nbformat": 4,
 "nbformat_minor": 4
}
